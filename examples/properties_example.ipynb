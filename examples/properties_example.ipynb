{
 "cells": [
  {
   "cell_type": "code",
   "execution_count": null,
   "metadata": {},
   "outputs": [],
   "source": [
    "%matplotlib inline\n",
    "import sys\n",
    "sys.path.append(\"..\") # Adds the module to path"
   ]
  },
  {
   "cell_type": "markdown",
   "metadata": {},
   "source": [
    "# deeptrack.properties\n",
    "\n",
    "This notebook introduces the module deeptrack.properties.\n",
    "\n",
    "## What is a property?\n",
    "\n",
    "Each feature (instance of the class `Feature`, see [features_example](features_example.ipynb)) can have several properties (instances of the class `Property`).\n",
    "A propety has a value accessible through the field `current_value`, whose data type is not restricted. \n",
    "This value is updated through a sampling rule (method `.update()`), which is passed to the class constructor on initialization. \n",
    "\n",
    "## What is a sampling rule?\n",
    "\n",
    "The sampling rule determines how the value of a property is updated upon calling `.update()`.\n",
    "A sampling rule is defined when an instance of the class Property is created and can be of any type. \n",
    "When calling `.update()`, the value of the property is updated according to the first of the following that applies:\n",
    "    \n",
    "1.  If the sampling rule has a method `.sample()`, call `.sample()` and return the output.\n",
    "2.  If the sampling rule is a dictionary, create an exact copy of the dictionary and substitute\n",
    "    any value that has a `.sample()` method with the result of the call to this method.\n",
    "3.  If the sampling rule is either a `list` or a 1-dimensional `ndarray`, extract one element randomly.\n",
    "4.  If the sampling rule is an iterable, return the next value.\n",
    "5.  If the sampling rule is callable, call it with no arguments and return the result.\n",
    "6.  If none of the above apply, return the sampling rule itself."
   ]
  },
  {
   "cell_type": "code",
   "execution_count": null,
   "metadata": {},
   "outputs": [],
   "source": [
    "import numpy as np\n",
    "from deeptrack.properties import Property"
   ]
  },
  {
   "cell_type": "markdown",
   "metadata": {},
   "source": [
    "## 1 - Property with a constant value\n",
    "\n",
    "The simplest example of a property is one that does not change during an update call.\n",
    "This is commonly either a number or a tuple, but can be any data type that will be evaluated by case 6.\n",
    "If you want to have a constant property with a value that would be evaluated by cases 1-5 (e.g., a list or a function), you can  wrap it as the output of a lambda function."
   ]
  },
  {
   "cell_type": "code",
   "execution_count": null,
   "metadata": {},
   "outputs": [],
   "source": [
    "# NUMBER\n",
    "print(\"NUMBER\")\n",
    "\n",
    "P = Property(1)\n",
    "print(\"The current value of the property is\", P.current_value)\n",
    "\n",
    "P.update() # Numbers are not changed after a update() call\n",
    "print(\"The current value of the property is\", P.current_value)"
   ]
  },
  {
   "cell_type": "code",
   "execution_count": null,
   "metadata": {},
   "outputs": [],
   "source": [
    "# TUPLE\n",
    "print(\"TUPLE\")\n",
    "\n",
    "P = Property((1, [2, 3], None))\n",
    "print(\"The current value of the property is\", P.current_value)\n",
    "\n",
    "P.update() # Tuples are not changed after a update() call\n",
    "print(\"The current value of the property is\", P.current_value)"
   ]
  },
  {
   "cell_type": "code",
   "execution_count": null,
   "metadata": {},
   "outputs": [],
   "source": [
    "# WRAPPED LIST\n",
    "print(\"WRAPPED LIST\")\n",
    "\n",
    "P = Property(lambda: [1, 2, 3])\n",
    "print(\"The current value of the property is\", P.current_value)\n",
    "\n",
    "P.update() # Tuples are not changed after a update() call\n",
    "print(\"The current value of the property is\", P.current_value)"
   ]
  },
  {
   "cell_type": "markdown",
   "metadata": {},
   "source": [
    "## 2 - Property with a discrete random value \n",
    "\n",
    "Discrete randomness can be achieved by a list (case 3), a 1-dimensional ndarray (case 3), or a function (case 5). For lists and ndarrays, the output is a single element of the list chosen uniform-randomly. For non-uniform sampling, either use lists with repeated elements, or a function. "
   ]
  },
  {
   "cell_type": "code",
   "execution_count": null,
   "metadata": {},
   "outputs": [],
   "source": [
    "# LIST\n",
    "print(\"LIST\")\n",
    "\n",
    "P = Property([1, 2, 3, 4])\n",
    "for _ in range(5):\n",
    "    P.update()\n",
    "    print(\"The current value of the property is\", P.current_value)"
   ]
  },
  {
   "cell_type": "code",
   "execution_count": null,
   "metadata": {},
   "outputs": [],
   "source": [
    "# NDARRAY\n",
    "print(\"NDARRAY\")\n",
    "\n",
    "P = Property(np.linspace(0, 1, 5))\n",
    "for _ in range(5): \n",
    "    P.update()\n",
    "    print(\"The current value of the property is\", P.current_value)"
   ]
  },
  {
   "cell_type": "code",
   "execution_count": null,
   "metadata": {},
   "outputs": [],
   "source": [
    "# FUNCTION\n",
    "print(\"FUNCTION\")\n",
    "\n",
    "P = Property(lambda: 1 if np.random.rand() > 0.6 else 0)\n",
    "for _ in range(5): \n",
    "    P.update()\n",
    "    print(\"The current value of the property is\", P.current_value)"
   ]
  },
  {
   "cell_type": "markdown",
   "metadata": {},
   "source": [
    "## 3 - Property with a continuous random value \n",
    "\n",
    "Continuous randomness is typically achieved by passing a function that returns a coninuous random value. This function should take no input, as noted in case 5. To use a function that needs arguments, wrap it in a function that calls it with the correct arguments."
   ]
  },
  {
   "cell_type": "code",
   "execution_count": null,
   "metadata": {},
   "outputs": [],
   "source": [
    "# FUNCTION WITH NO INPUT\n",
    "print(\"FUNCTION WITH NO INPUT\")\n",
    "\n",
    "P = Property(np.random.rand)\n",
    "for _ in range(5):\n",
    "    P.update()\n",
    "    print(\"The current value of the property is\", P.current_value)"
   ]
  },
  {
   "cell_type": "code",
   "execution_count": null,
   "metadata": {},
   "outputs": [],
   "source": [
    "# WRAPPED FUNCTION\n",
    "print(\"WRAPPED FUNCTION\")\n",
    "\n",
    "P = Property(lambda: np.random.normal(1, 5))\n",
    "for _ in range(5):\n",
    "    P.update()\n",
    "    print(\"The current value of the property is\", P.current_value)"
   ]
  },
  {
   "cell_type": "markdown",
   "metadata": {},
   "source": [
    "## 4 - Property with a deterministically changing value\n",
    "\n",
    "Deterministically changing properties can be achieved using either an iterator (case 4) or a function (case 5). For the output of a function to change deterministically between calls, it should reference some variable outside its definition. Once an iterator has been exhausted, it will repeat the last value."
   ]
  },
  {
   "cell_type": "code",
   "execution_count": null,
   "metadata": {},
   "outputs": [],
   "source": [
    "# ITERATOR\n",
    "print(\"ITERATOR\")\n",
    "\n",
    "P = Property(iter([1, 2, 3, 4, 5]))\n",
    "for _ in range(10):\n",
    "    P.update()\n",
    "    print(\"The current value of the property is\", P.current_value)"
   ]
  },
  {
   "cell_type": "code",
   "execution_count": null,
   "metadata": {},
   "outputs": [],
   "source": [
    "# FUNCTION\n",
    "print(\"FUNCTION\")\n",
    "\n",
    "fibbonacci = [1, 1]\n",
    "def fibbonacci_sequence():\n",
    "    fibbonacci.append(fibbonacci[-2] + fibbonacci[-1])\n",
    "    return fibbonacci\n",
    "\n",
    "P = Property(fibbonacci_sequence)\n",
    "for _ in range(5):\n",
    "    P.update()\n",
    "    print(\"The current value of the property is\", P.current_value)"
   ]
  },
  {
   "cell_type": "markdown",
   "metadata": {},
   "source": [
    "## 6. What is a PropertyDict?\n",
    "\n",
    "The second class contained in the deeptrack.properties module is called PropertyDict. This is a dictionary of properties (keys: name of properties; values: properties) complemented by utility methods to manage collections of properties. These include:\n",
    "\n",
    "* `.current_value_dict()`, which creates and returns a dictionary with the current value of all properties in the PropertyDict (keys: name of properties; values: current values of the properties).\n",
    "* `.update()`, which calls the method `.update()` on all properties in the PropertyDict.\n",
    "* `.sample()`, which calls the method `.sample()` on all properties in the PropertyDict, and creates and returns a dictionary from the output (keys: name of properties; values: sample outputs of the properties).\n"
   ]
  },
  {
   "cell_type": "code",
   "execution_count": null,
   "metadata": {},
   "outputs": [],
   "source": [
    "from deeptrack.properties import PropertyDict, Property\n",
    "\n",
    "property_dict = PropertyDict(\n",
    "    foo=Property(1),\n",
    "    bar=Property([1, 2, 3]),\n",
    "    baz=Property(np.random.rand)\n",
    ")\n",
    "\n",
    "for _ in range(5):\n",
    "    property_dict.update()\n",
    "    print(\"The current values of the properties in property_dict are\", property_dict.current_value_dict())"
   ]
  }
 ],
 "metadata": {
  "file_extension": ".py",
  "kernelspec": {
   "display_name": "Python 3",
   "language": "python",
   "name": "python3"
  },
  "language_info": {
   "codemirror_mode": {
    "name": "ipython",
    "version": 3
   },
   "file_extension": ".py",
   "mimetype": "text/x-python",
   "name": "python",
   "nbconvert_exporter": "python",
   "pygments_lexer": "ipython3",
   "version": "3.6.8"
  },
  "mimetype": "text/x-python",
  "name": "python",
  "npconvert_exporter": "python",
  "pygments_lexer": "ipython3",
  "version": 3
 },
 "nbformat": 4,
 "nbformat_minor": 2
}